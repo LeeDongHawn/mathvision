{
 "cells": [
  {
   "cell_type": "code",
   "execution_count": 1,
   "metadata": {},
   "outputs": [],
   "source": [
    "# hw 08 (연산 순서 확인)\n",
    "import numpy as np\n",
    "import matplotlib.pyplot as plt\n",
    "import scipy.stats as sp\n",
    "import math\n",
    "from scipy.spatial.distance import mahalanobis\n",
    "\n",
    "#np.loadtxt(구분자 : 콤마)\n",
    "data_a = np.loadtxt(\"data_a.txt\",delimiter=\",\")\n",
    "data_b = np.loadtxt(\"data_b.txt\",delimiter=\",\")"
   ]
  },
  {
   "cell_type": "code",
   "execution_count": 2,
   "metadata": {},
   "outputs": [
    {
     "data": {
      "text/plain": [
       "array([[ 2.9595  ,  1.5581  , -0.61096 , -0.45629 ],\n",
       "       [ 2.4452  , -0.44842 ,  2.5144  , -0.98481 ],\n",
       "       [ 3.1157  ,  1.1519  ,  0.063745, -0.7221  ],\n",
       "       ...,\n",
       "       [ 3.3099  ,  0.69088 ,  1.2564  , -0.62332 ],\n",
       "       [ 2.7875  , -0.092662,  2.9127  , -0.11129 ],\n",
       "       [ 2.9716  , -1.3506  ,  6.8869  ,  1.3202  ]])"
      ]
     },
     "execution_count": 2,
     "metadata": {},
     "output_type": "execute_result"
    }
   ],
   "source": [
    "data_a"
   ]
  },
  {
   "cell_type": "code",
   "execution_count": 3,
   "metadata": {},
   "outputs": [
    {
     "data": {
      "text/plain": [
       "array([[ 3.2407 ,  4.3141 , -2.9888 ,  2.559  ],\n",
       "       [ 3.048  ,  2.3415 ,  2.0843 ,  3.8624 ],\n",
       "       [ 2.9453 ,  3.8718 , -3.323  ,  1.3432 ],\n",
       "       ...,\n",
       "       [ 2.6321 ,  3.0074 , -1.2821 ,  2.0958 ],\n",
       "       [ 3.1803 ,  5.943  , -8.3657 ,  0.48498],\n",
       "       [ 3.0279 ,  2.5626 ,  0.33556,  2.4754 ]])"
      ]
     },
     "execution_count": 3,
     "metadata": {},
     "output_type": "execute_result"
    }
   ],
   "source": [
    "data_b"
   ]
  },
  {
   "cell_type": "code",
   "execution_count": 4,
   "metadata": {},
   "outputs": [
    {
     "data": {
      "text/plain": [
       "array([[ 2.9595  ,  2.4452  ,  3.1157  , ...,  2.6321  ,  3.1803  ,\n",
       "         3.0279  ],\n",
       "       [ 1.5581  , -0.44842 ,  1.1519  , ...,  3.0074  ,  5.943   ,\n",
       "         2.5626  ],\n",
       "       [-0.61096 ,  2.5144  ,  0.063745, ..., -1.2821  , -8.3657  ,\n",
       "         0.33556 ],\n",
       "       [-0.45629 , -0.98481 , -0.7221  , ...,  2.0958  ,  0.48498 ,\n",
       "         2.4754  ]])"
      ]
     },
     "execution_count": 4,
     "metadata": {},
     "output_type": "execute_result"
    }
   ],
   "source": [
    "# PCA구하기(data_a와 data_b를 합함)\n",
    "# 1. 공분산(Covariance) matrix 구하기\n",
    "dangdo = np.array([])\n",
    "density = np.array([])\n",
    "color = np.array([])\n",
    "moisture = np.array([])\n",
    "for i in range(len(data_a)):\n",
    "    dangdo=np.append(dangdo,[data_a[i][0]])\n",
    "    density=np.append(density,[data_a[i][1]])\n",
    "    color=np.append(color,[data_a[i][2]])\n",
    "    moisture=np.append(moisture,[data_a[i][3]])\n",
    "for i in range(len(data_b)):\n",
    "    dangdo=np.append(dangdo,[data_b[i][0]])\n",
    "    density=np.append(density,[data_b[i][1]])\n",
    "    color=np.append(color,[data_b[i][2]])\n",
    "    moisture=np.append(moisture,[data_b[i][3]])    \n",
    "\n",
    "A_B = np.array([dangdo,density,color,moisture])\n",
    "A_B\n",
    "# <초기 data 형태> \n",
    "#        당도  밀도  색깔  습도\n",
    "#사과 1\n",
    "#사과 2\n",
    "#사과 3 ... 형태를 아래와 같이 바꿔줌\n",
    "\n",
    "#당도 : 사과1 사과2 사과3 ...\n",
    "#밀도 : 사과1 사과2 사과3 ...\n",
    "#색깔 : 사과1 사과2 사과3 ...\n",
    "#습도 : 사과1 사과2 사과3 ...  4x1500"
   ]
  },
  {
   "cell_type": "code",
   "execution_count": 5,
   "metadata": {},
   "outputs": [
    {
     "data": {
      "text/plain": [
       "array([[ 4.65400643e-02,  1.97472057e-02, -7.80869036e-03,\n",
       "        -5.79295269e-03],\n",
       "       [ 1.97472057e-02,  5.32460593e+00, -9.54860209e+00,\n",
       "         1.08606902e+00],\n",
       "       [-7.80869036e-03, -9.54860209e+00,  1.87863401e+01,\n",
       "        -3.11847281e-01],\n",
       "       [-5.79295269e-03,  1.08606902e+00, -3.11847281e-01,\n",
       "         1.86824703e+00]])"
      ]
     },
     "execution_count": 5,
     "metadata": {},
     "output_type": "execute_result"
    }
   ],
   "source": [
    "#np.cov : 공분산 matrix를 출력해준다.\n",
    "A_B_covariance = np.cov(A_B)\n",
    "A_B_covariance"
   ]
  },
  {
   "cell_type": "code",
   "execution_count": 6,
   "metadata": {},
   "outputs": [],
   "source": [
    "# 2. np.linalg.eig : 공분산 matrix에 대해 eigenvalue(w), eigenvactor(v)를 구한다.\n",
    "eig_vals, eig_vecs = np.linalg.eig(A_B_covariance)\n",
    "eig_pairs = [(eig_vals[i],eig_vecs[:,i]) for i in range(len(eig_vals))]\n",
    "eig_pairs.sort(reverse=True)\n",
    "# eig_pairs"
   ]
  },
  {
   "cell_type": "markdown",
   "metadata": {},
   "source": [
    "### PC(Princal Component) : 분산이 가장 넓은 지역\n",
    "### Covariance Matrix에 있는 Eigen Vector에 해당(n차원에서 n개 존재) Eigen Value가 높은 Eigen Vector를 찾아야 함"
   ]
  },
  {
   "cell_type": "markdown",
   "metadata": {},
   "source": [
    "# 부분공간 투영 V^-1x\n",
    "# 이는 아이젠 벡터들과 데이터 간의 행렬곱을 의미"
   ]
  },
  {
   "cell_type": "code",
   "execution_count": 7,
   "metadata": {},
   "outputs": [],
   "source": [
    "mat_w = np.hstack((eig_pairs[0][1].reshape(4,1),eig_pairs[1][1].reshape(4,1))) #4x2\n",
    "mat_w.shape\n",
    "mat_w_T = mat_w.T"
   ]
  },
  {
   "cell_type": "code",
   "execution_count": 8,
   "metadata": {},
   "outputs": [],
   "source": [
    "pca = np.matmul(mat_w_T,A_B)\n",
    "pca_T = pca.T"
   ]
  },
  {
   "cell_type": "code",
   "execution_count": 9,
   "metadata": {},
   "outputs": [
    {
     "data": {
      "text/plain": [
       "(1000, 2)"
      ]
     },
     "execution_count": 9,
     "metadata": {},
     "output_type": "execute_result"
    }
   ],
   "source": [
    "pca_a = pca_T[slice(0,1000)]\n",
    "pca_b = pca_T[slice(1000,1500)]\n",
    "pca_a.shape"
   ]
  },
  {
   "cell_type": "markdown",
   "metadata": {},
   "source": [
    "# 가우시안 분포(정규분포)로 모델링\n",
    "   ## 다변수정규분포\n",
    "   ## 평균과 covariance를 구하라는 뜻임\n",
    "   ## 시각화는 추가적인 요소일 뿐임"
   ]
  },
  {
   "cell_type": "code",
   "execution_count": 10,
   "metadata": {},
   "outputs": [],
   "source": [
    "mu_a = np.array([np.mean(pca_a[:,0]),np.mean(pca_a[:,1])])\n",
    "mu_b = np.array([np.mean(pca_b[:,0]),np.mean(pca_b[:,1])])\n",
    "cov_a = np.cov(pca_a.T)\n",
    "cov_b = np.cov(pca_b.T)"
   ]
  },
  {
   "cell_type": "markdown",
   "metadata": {},
   "source": [
    "# 올해 수확한 사과 2개체"
   ]
  },
  {
   "cell_type": "code",
   "execution_count": 15,
   "metadata": {},
   "outputs": [
    {
     "data": {
      "text/plain": [
       "array([[ 0.6322, -4.1113],\n",
       "       [-3.2764, 10.9427],\n",
       "       [ 1.6776, -1.157 ],\n",
       "       [-0.2263, -1.7366]])"
      ]
     },
     "execution_count": 15,
     "metadata": {},
     "output_type": "execute_result"
    }
   ],
   "source": [
    "# test 데이터 부분공간 S에 투영\n",
    "data_t = np.loadtxt(\"test.txt\",delimiter=\",\") \n",
    "# PCA구하기\n",
    "\n",
    "# 1. 공분산(Covariance) matrix 구하기\n",
    "dangdo = np.array([])\n",
    "density = np.array([])\n",
    "color = np.array([])\n",
    "moisture = np.array([])\n",
    "for i in range(len(data_t)):\n",
    "    dangdo=np.append(dangdo,[data_t[i][0]])\n",
    "    density=np.append(density,[data_t[i][1]])\n",
    "    color=np.append(color,[data_t[i][2]])\n",
    "    moisture=np.append(moisture,[data_t[i][3]])\n",
    "\n",
    "T = np.array([dangdo,density,color,moisture])\n",
    "#np.cov : 공분산 matrix를 출력해준다.\n",
    "T_covariance = np.cov(T)\n",
    "T\n",
    "# <초기 data 형태> \n",
    "#        당도  밀도  색깔  습도\n",
    "#사과 1\n",
    "#사과 2\n",
    "#사과 3 ... 형태를 아래와 같이 바꿔줌   2x4\n",
    "\n",
    "#당도 : 사과1 사과2 사과3 ...\n",
    "#밀도 : 사과1 사과2 사과3 ...\n",
    "#색깔 : 사과1 사과2 사과3 ...\n",
    "#습도 : 사과1 사과2 사과3 ...  4x2"
   ]
  },
  {
   "cell_type": "code",
   "execution_count": 20,
   "metadata": {},
   "outputs": [
    {
     "data": {
      "text/plain": [
       "array([[ 3.00594658, -6.00783154],\n",
       "       [-0.97971413,  1.96355609]])"
      ]
     },
     "execution_count": 20,
     "metadata": {},
     "output_type": "execute_result"
    }
   ],
   "source": [
    "pca_tt = np.matmul(mat_w_T,T)\n",
    "pca_tt.shape\n",
    "pca_tt"
   ]
  },
  {
   "cell_type": "markdown",
   "metadata": {},
   "source": [
    "# Mahalanobis distance"
   ]
  },
  {
   "cell_type": "code",
   "execution_count": 26,
   "metadata": {},
   "outputs": [
    {
     "name": "stdout",
     "output_type": "stream",
     "text": [
      "MD_t1 :  2.775561925738843\n",
      "MD_t2 :  6.268366366583433\n"
     ]
    }
   ],
   "source": [
    "# Mahalanovis Distance 구하기\n",
    "# a 품종과 test 데이터와의 거리\n",
    "# (test값 - A의 평균값)\n",
    "data_At_1 = np.array([[pca_tt[0][0],pca_tt[1][0]]]) - mu_a\n",
    "# (test값 - A의 평균값)\n",
    "data_At_2 = np.array([[pca_tt[0][1],pca_tt[1][1]]]) - mu_a \n",
    "# C : covariance matrix(a)\n",
    "C = np.array([[cov_a[0][0],cov_a[0][1]],[cov_a[1][0],cov_a[1][1]]])\n",
    "\n",
    "C_inv = np.linalg.inv(C)\n",
    "# Transpose\n",
    "T_data_At_1 = data_At_1.transpose()\n",
    "T_data_At_2 = data_At_2.transpose()\n",
    "\n",
    "MD_At1_First = np.matmul(data_At_1,C_inv)\n",
    "MD_At1_Result = np.matmul(MD_At1_First,T_data_At_1)\n",
    "\n",
    "MD_At2_First = np.matmul(data_At_2,C_inv)\n",
    "MD_At2_Result = np.matmul(MD_At2_First,T_data_At_2)\n",
    "\n",
    "print('MD_t1 : ',math.sqrt(abs(MD_At1_Result)))\n",
    "print('MD_t2 : ',math.sqrt(abs(MD_At2_Result)))"
   ]
  },
  {
   "cell_type": "code",
   "execution_count": 27,
   "metadata": {},
   "outputs": [
    {
     "name": "stdout",
     "output_type": "stream",
     "text": [
      "MD_t1 :  5.636964518484305\n",
      "MD_t2 :  0.5919154583689167\n"
     ]
    }
   ],
   "source": [
    "# Mahalanovis Distance 구하기\n",
    "# B 품종과 test 데이터와의 거리\n",
    "# (test값 - B의 평균값)\n",
    "data_Bt_1 = np.array([[pca_tt[0][0],pca_tt[1][0]]]) - mu_b\n",
    "# (test값 - B의 평균값)\n",
    "data_Bt_2 = np.array([[pca_tt[0][1],pca_tt[1][1]]]) - mu_b\n",
    "# C: \n",
    "C = np.array([[cov_b[0][0],cov_b[0][1]],[cov_b[1][0],cov_b[1][1]]])\n",
    "\n",
    "C_inv = np.linalg.inv(C)\n",
    "# Transpose\n",
    "T_data_Bt_1 = data_Bt_1.transpose()\n",
    "T_data_Bt_2 = data_Bt_2.transpose()\n",
    "\n",
    "MD_Bt1_First = np.matmul(data_Bt_1,C_inv)\n",
    "MD_Bt1_Result = np.matmul(MD_Bt1_First,T_data_Bt_1)\n",
    "\n",
    "MD_Bt2_First = np.matmul(data_Bt_2,C_inv)\n",
    "MD_Bt2_Result = np.matmul(MD_Bt2_First,T_data_Bt_2)\n",
    "\n",
    "print('MD_t1 : ',math.sqrt(abs(MD_Bt1_Result)))\n",
    "print('MD_t2 : ',math.sqrt(abs(MD_Bt2_Result)))"
   ]
  }
 ],
 "metadata": {
  "kernelspec": {
   "display_name": "Python 3",
   "language": "python",
   "name": "python3"
  },
  "language_info": {
   "codemirror_mode": {
    "name": "ipython",
    "version": 3
   },
   "file_extension": ".py",
   "mimetype": "text/x-python",
   "name": "python",
   "nbconvert_exporter": "python",
   "pygments_lexer": "ipython3",
   "version": "3.7.4"
  }
 },
 "nbformat": 4,
 "nbformat_minor": 2
}
